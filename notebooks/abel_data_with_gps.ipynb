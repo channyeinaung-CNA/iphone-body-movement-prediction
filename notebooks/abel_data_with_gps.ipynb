{
 "cells": [
  {
   "cell_type": "code",
   "execution_count": 2,
   "metadata": {},
   "outputs": [
    {
     "name": "stdout",
     "output_type": "stream",
     "text": [
      "Labeled data saved as ../data-collection/2024-12-10_22-37-46_Data/labeled_position_data.csv\n"
     ]
    }
   ],
   "source": [
    "import pandas as pd\n",
    "\n",
    "# Load the data\n",
    "position_data = pd.read_csv('../data-collection/2024-12-10_22-37-46_Data/position_data.csv')\n",
    "\n",
    "# Define thresholds\n",
    "speed_threshold = 0.1  # Consider speed <= 0.1 as \"stop\"\n",
    "turn_threshold = 10    # Degrees to detect turns (adjust as needed)\n",
    "\n",
    "# Calculate course change\n",
    "position_data['course_diff'] = position_data['course'].diff().fillna(0)\n",
    "\n",
    "# Assign labels\n",
    "def label_row(row):\n",
    "    if row['speed'] <= speed_threshold:\n",
    "        return 'Stop'\n",
    "    elif abs(row['course_diff']) > turn_threshold:\n",
    "        return 'Turn Left' if row['course_diff'] < 0 else 'Turn Right'\n",
    "    else:\n",
    "        return 'Moving Forward'\n",
    "\n",
    "position_data['Label'] = position_data.apply(label_row, axis=1)\n",
    "\n",
    "# Define the save path in the data-collection folder\n",
    "output_file = '../data-collection/2024-12-10_22-37-46_Data/labeled_position_data.csv'\n",
    "\n",
    "# Save the labeled data\n",
    "position_data.to_csv(output_file, index=False)\n",
    "print(f\"Labeled data saved as {output_file}\")"
   ]
  },
  {
   "cell_type": "code",
   "execution_count": 4,
   "metadata": {},
   "outputs": [
    {
     "name": "stdout",
     "output_type": "stream",
     "text": [
      "Labeled map with legend saved as labeled_gps_map_with_legend.html\n"
     ]
    }
   ],
   "source": [
    "from folium import Map, CircleMarker\n",
    "from folium.plugins import MarkerCluster\n",
    "from branca.element import Template, MacroElement\n",
    "\n",
    "# Define the legend as an HTML template\n",
    "legend_html = '''\n",
    "<div style=\"\n",
    "    position: fixed; \n",
    "    bottom: 50px; left: 50px; width: 200px; height: 150px; \n",
    "    background-color: white; border:2px solid grey; z-index:9999; font-size:14px;\n",
    "    \">\n",
    "    &nbsp; <b>Legend</b> <br>\n",
    "    &nbsp; <i style=\"color: red;\">●</i> Stop <br>\n",
    "    &nbsp; <i style=\"color: blue;\">●</i> Moving Forward <br>\n",
    "    &nbsp; <i style=\"color: green;\">●</i> Turn Left <br>\n",
    "    &nbsp; <i style=\"color: orange;\">●</i> Turn Right <br>\n",
    "</div>\n",
    "'''\n",
    "\n",
    "# Create a folium map\n",
    "map_center = [position_data['latitude'][0], position_data['longitude'][0]]\n",
    "labeled_map = folium.Map(location=map_center, zoom_start=15)\n",
    "\n",
    "# Add points with colors based on labels\n",
    "for _, row in position_data.iterrows():\n",
    "    label_color = {\n",
    "        'Stop': 'red',\n",
    "        'Moving Forward': 'blue',\n",
    "        'Turn Left': 'green',\n",
    "        'Turn Right': 'orange'\n",
    "    }[row['Label']]\n",
    "    CircleMarker(\n",
    "        location=[row['latitude'], row['longitude']],\n",
    "        radius=5,\n",
    "        color=label_color,\n",
    "        fill=True,\n",
    "        fill_color=label_color\n",
    "    ).add_to(labeled_map)\n",
    "\n",
    "# Add the legend to the map\n",
    "labeled_map.get_root().html.add_child(folium.Element(legend_html))\n",
    "\n",
    "# Save the map\n",
    "labeled_map.save('labeled_gps_map_with_legend.html')\n",
    "print(\"Labeled map with legend saved as labeled_gps_map_with_legend.html\")\n"
   ]
  }
 ],
 "metadata": {
  "kernelspec": {
   "display_name": "Python 3",
   "language": "python",
   "name": "python3"
  },
  "language_info": {
   "codemirror_mode": {
    "name": "ipython",
    "version": 3
   },
   "file_extension": ".py",
   "mimetype": "text/x-python",
   "name": "python",
   "nbconvert_exporter": "python",
   "pygments_lexer": "ipython3",
   "version": "3.11.10"
  }
 },
 "nbformat": 4,
 "nbformat_minor": 2
}
