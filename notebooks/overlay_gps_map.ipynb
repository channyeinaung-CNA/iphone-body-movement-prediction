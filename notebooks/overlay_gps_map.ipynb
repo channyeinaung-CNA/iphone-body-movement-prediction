{
 "cells": [
  {
   "cell_type": "code",
   "execution_count": 3,
   "metadata": {},
   "outputs": [
    {
     "name": "stdout",
     "output_type": "stream",
     "text": [
      "Map saved to gps_map.html\n"
     ]
    }
   ],
   "source": [
    "import folium\n",
    "import pandas as pd\n",
    "from folium.plugins import MarkerCluster\n",
    "\n",
    "# Load position data\n",
    "position_data = pd.read_csv('../data-collection/2024-12-10_22-37-46_Data/position_data.csv')\n",
    "\n",
    "# Create a map centered at the first GPS coordinate\n",
    "map_center = [position_data['latitude'][0], position_data['longitude'][0]]\n",
    "my_map = folium.Map(location=map_center, zoom_start=15)\n",
    "\n",
    "# Add a polyline to connect the movement points\n",
    "coordinates = list(zip(position_data['latitude'], position_data['longitude']))\n",
    "folium.PolyLine(locations=coordinates, color=\"blue\", weight=2.5, opacity=1).add_to(my_map)\n",
    "\n",
    "# Add clustered markers\n",
    "marker_cluster = MarkerCluster().add_to(my_map)\n",
    "for _, row in position_data.iterrows():\n",
    "    popup_info = (\n",
    "        f\"Speed: {row.get('Speed', 'N/A')} km/h<br>\"\n",
    "        f\"Altitude: {row.get('Altitude', 'N/A')} m<br>\"\n",
    "        f\"Timestamp: {row.get('Timestamp', 'N/A')}\"\n",
    "    )\n",
    "    folium.Marker(\n",
    "        [row['latitude'], row['longitude']],\n",
    "        popup=popup_info\n",
    "    ).add_to(marker_cluster)\n",
    "\n",
    "# Save and display the map\n",
    "output_file = \"gps_map.html\"\n",
    "my_map.save(output_file)\n",
    "print(f\"Map saved to {output_file}\")\n"
   ]
  }
 ],
 "metadata": {
  "kernelspec": {
   "display_name": "Python 3",
   "language": "python",
   "name": "python3"
  },
  "language_info": {
   "codemirror_mode": {
    "name": "ipython",
    "version": 3
   },
   "file_extension": ".py",
   "mimetype": "text/x-python",
   "name": "python",
   "nbconvert_exporter": "python",
   "pygments_lexer": "ipython3",
   "version": "3.11.10"
  }
 },
 "nbformat": 4,
 "nbformat_minor": 2
}
